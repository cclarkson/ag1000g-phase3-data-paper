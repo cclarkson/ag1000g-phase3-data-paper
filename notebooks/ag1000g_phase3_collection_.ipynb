{
 "cells": [
  {
   "cell_type": "code",
   "execution_count": 1,
   "metadata": {},
   "outputs": [
    {
     "name": "stdout",
     "output_type": "stream",
     "text": [
      "cartopy 0.17.0\n"
     ]
    }
   ],
   "source": [
    "import matplotlib as mpl\n",
    "import matplotlib.pyplot as plt\n",
    "from matplotlib.lines import Line2D\n",
    "from matplotlib.patches import Patch\n",
    "import cartopy; print('cartopy', cartopy.__version__)\n",
    "import cartopy.crs as ccrs\n",
    "import cartopy.feature as cfeature\n",
    "import pandas as pd\n",
    "import numpy as np\n",
    "import seaborn as sns\n",
    "import gcsfs\n",
    "from pathlib import Path\n",
    "import yaml\n",
    "#cartopy text scale issues\n",
    "sns.set_context('paper', font_scale=.9)"
   ]
  },
  {
   "cell_type": "markdown",
   "metadata": {},
   "source": [
    "### setup data access"
   ]
  },
  {
   "cell_type": "code",
   "execution_count": 2,
   "metadata": {},
   "outputs": [],
   "source": [
    "gcsfs.core.client_config['installed']['client_id'] = '160816776314-7h1p2h6bqhe77vs1su4rr22fblso9dre.apps.googleusercontent.com'\n",
    "gcsfs.core.client_config['installed']['client_secret'] = 'SrJUwD58yKgViyJtw-NP2sz8'"
   ]
  },
  {
   "cell_type": "code",
   "execution_count": 3,
   "metadata": {},
   "outputs": [],
   "source": [
    "# create a GCSFileSystem just for the purpose of authentication\n",
    "gcs_orig = gcsfs.GCSFileSystem(project='malariagen-jupyterhub', token='cache', cache_timeout=0)\n",
    "\n",
    "# create another one with those credentials\n",
    "gcs =  gcsfs.GCSFileSystem(project='malariagen-jupyterhub', token=gcs_orig.session.credentials, cache_timeout=0)"
   ]
  },
  {
   "cell_type": "markdown",
   "metadata": {},
   "source": [
    "### setup data"
   ]
  },
  {
   "cell_type": "code",
   "execution_count": 4,
   "metadata": {},
   "outputs": [],
   "source": [
    "staging_dir = Path(\"vo_agam_staging\")\n",
    "species_analysis = \"species_calls_20200422\""
   ]
  },
  {
   "cell_type": "code",
   "execution_count": 5,
   "metadata": {},
   "outputs": [],
   "source": [
    "with open(\"../data/config.yml\", \"r\") as yy:\n",
    "    config = yaml.load(yy, Loader=yaml.Loader)\n",
    "\n",
    "samplesets = sorted(config[\"sample_sets\"])\n",
    "\n",
    "#GA-B is empty, crosses we don't want\n",
    "samplesets.remove('AG1000G-GA-B')\n",
    "samplesets.remove('AG1000G-X')"
   ]
  },
  {
   "cell_type": "code",
   "execution_count": 6,
   "metadata": {},
   "outputs": [
    {
     "data": {
      "text/plain": [
       "['AG1000G-AO',\n",
       " 'AG1000G-BF-A',\n",
       " 'AG1000G-BF-B',\n",
       " 'AG1000G-BF-C',\n",
       " 'AG1000G-CD',\n",
       " 'AG1000G-CF',\n",
       " 'AG1000G-CI',\n",
       " 'AG1000G-CM-A',\n",
       " 'AG1000G-CM-B',\n",
       " 'AG1000G-CM-C',\n",
       " 'AG1000G-FR',\n",
       " 'AG1000G-GA-A',\n",
       " 'AG1000G-GH',\n",
       " 'AG1000G-GM-A',\n",
       " 'AG1000G-GM-B',\n",
       " 'AG1000G-GM-C',\n",
       " 'AG1000G-GN-A',\n",
       " 'AG1000G-GN-B',\n",
       " 'AG1000G-GQ',\n",
       " 'AG1000G-GW',\n",
       " 'AG1000G-KE',\n",
       " 'AG1000G-ML-A',\n",
       " 'AG1000G-ML-B',\n",
       " 'AG1000G-MW',\n",
       " 'AG1000G-MZ',\n",
       " 'AG1000G-TZ',\n",
       " 'AG1000G-UG']"
      ]
     },
     "execution_count": 6,
     "metadata": {},
     "output_type": "execute_result"
    }
   ],
   "source": [
    "samplesets"
   ]
  },
  {
   "cell_type": "code",
   "execution_count": 7,
   "metadata": {},
   "outputs": [],
   "source": [
    "#need to get mean lon/lat across countries so we might as well concat all metadata including species into a big PD\n",
    "\n",
    "set_len = 0\n",
    "all_meta = pd.DataFrame()\n",
    "\n",
    "for sset in samplesets:\n",
    "        \n",
    "        metadata_path = staging_dir / \"v3\" / \"metadata\" / \"general\" / sset / \"samples.meta.csv\"\n",
    "        species_path = staging_dir / \"v3\" / \"metadata\" / species_analysis / sset / \"samples.species_aim.csv\"\n",
    "\n",
    "\n",
    "        with gcs.open(metadata_path) as gcs_fh:\n",
    "            df = pd.read_csv(gcs_fh, index_col=0)\n",
    "        with gcs.open(species_path) as gcs_fh:\n",
    "            df_aim = pd.read_csv(gcs_fh, index_col=0)\n",
    "\n",
    "        # join on sample id\n",
    "        result = pd.concat([df, df_aim], axis=1, sort=False)\n",
    "        set_len += len(result)\n",
    "\n",
    "        all_meta = pd.concat([all_meta, result],sort=False)\n",
    "\n",
    "assert len(all_meta) == set_len"
   ]
  },
  {
   "cell_type": "code",
   "execution_count": 8,
   "metadata": {},
   "outputs": [
    {
     "data": {
      "text/html": [
       "<div>\n",
       "<style scoped>\n",
       "    .dataframe tbody tr th:only-of-type {\n",
       "        vertical-align: middle;\n",
       "    }\n",
       "\n",
       "    .dataframe tbody tr th {\n",
       "        vertical-align: top;\n",
       "    }\n",
       "\n",
       "    .dataframe thead th {\n",
       "        text-align: right;\n",
       "    }\n",
       "</style>\n",
       "<table border=\"1\" class=\"dataframe\">\n",
       "  <thead>\n",
       "    <tr style=\"text-align: right;\">\n",
       "      <th></th>\n",
       "      <th>partner_sample_id</th>\n",
       "      <th>contributor</th>\n",
       "      <th>country</th>\n",
       "      <th>location</th>\n",
       "      <th>year</th>\n",
       "      <th>month</th>\n",
       "      <th>latitude</th>\n",
       "      <th>longitude</th>\n",
       "      <th>sex_call</th>\n",
       "      <th>aim_fraction_colu</th>\n",
       "      <th>aim_fraction_arab</th>\n",
       "      <th>species_gambcolu_arabiensis</th>\n",
       "      <th>species_gambiae_coluzzii</th>\n",
       "    </tr>\n",
       "    <tr>\n",
       "      <th>sample_id</th>\n",
       "      <th></th>\n",
       "      <th></th>\n",
       "      <th></th>\n",
       "      <th></th>\n",
       "      <th></th>\n",
       "      <th></th>\n",
       "      <th></th>\n",
       "      <th></th>\n",
       "      <th></th>\n",
       "      <th></th>\n",
       "      <th></th>\n",
       "      <th></th>\n",
       "      <th></th>\n",
       "    </tr>\n",
       "  </thead>\n",
       "  <tbody>\n",
       "    <tr>\n",
       "      <th>AR0047-C</th>\n",
       "      <td>LUA047</td>\n",
       "      <td>Joao Pinto</td>\n",
       "      <td>Angola</td>\n",
       "      <td>Luanda</td>\n",
       "      <td>2009</td>\n",
       "      <td>4</td>\n",
       "      <td>-8.884</td>\n",
       "      <td>13.302</td>\n",
       "      <td>F</td>\n",
       "      <td>0.945</td>\n",
       "      <td>0.001</td>\n",
       "      <td>gamb_colu</td>\n",
       "      <td>coluzzii</td>\n",
       "    </tr>\n",
       "    <tr>\n",
       "      <th>AR0049-C</th>\n",
       "      <td>LUA049</td>\n",
       "      <td>Joao Pinto</td>\n",
       "      <td>Angola</td>\n",
       "      <td>Luanda</td>\n",
       "      <td>2009</td>\n",
       "      <td>4</td>\n",
       "      <td>-8.884</td>\n",
       "      <td>13.302</td>\n",
       "      <td>F</td>\n",
       "      <td>0.933</td>\n",
       "      <td>0.001</td>\n",
       "      <td>gamb_colu</td>\n",
       "      <td>coluzzii</td>\n",
       "    </tr>\n",
       "    <tr>\n",
       "      <th>AR0051-C</th>\n",
       "      <td>LUA051</td>\n",
       "      <td>Joao Pinto</td>\n",
       "      <td>Angola</td>\n",
       "      <td>Luanda</td>\n",
       "      <td>2009</td>\n",
       "      <td>4</td>\n",
       "      <td>-8.884</td>\n",
       "      <td>13.302</td>\n",
       "      <td>F</td>\n",
       "      <td>0.937</td>\n",
       "      <td>0.002</td>\n",
       "      <td>gamb_colu</td>\n",
       "      <td>coluzzii</td>\n",
       "    </tr>\n",
       "    <tr>\n",
       "      <th>AR0061-C</th>\n",
       "      <td>LUA061</td>\n",
       "      <td>Joao Pinto</td>\n",
       "      <td>Angola</td>\n",
       "      <td>Luanda</td>\n",
       "      <td>2009</td>\n",
       "      <td>4</td>\n",
       "      <td>-8.884</td>\n",
       "      <td>13.302</td>\n",
       "      <td>F</td>\n",
       "      <td>0.938</td>\n",
       "      <td>0.002</td>\n",
       "      <td>gamb_colu</td>\n",
       "      <td>coluzzii</td>\n",
       "    </tr>\n",
       "    <tr>\n",
       "      <th>AR0078-C</th>\n",
       "      <td>LUA078</td>\n",
       "      <td>Joao Pinto</td>\n",
       "      <td>Angola</td>\n",
       "      <td>Luanda</td>\n",
       "      <td>2009</td>\n",
       "      <td>4</td>\n",
       "      <td>-8.884</td>\n",
       "      <td>13.302</td>\n",
       "      <td>F</td>\n",
       "      <td>0.926</td>\n",
       "      <td>0.001</td>\n",
       "      <td>gamb_colu</td>\n",
       "      <td>coluzzii</td>\n",
       "    </tr>\n",
       "    <tr>\n",
       "      <th>...</th>\n",
       "      <td>...</td>\n",
       "      <td>...</td>\n",
       "      <td>...</td>\n",
       "      <td>...</td>\n",
       "      <td>...</td>\n",
       "      <td>...</td>\n",
       "      <td>...</td>\n",
       "      <td>...</td>\n",
       "      <td>...</td>\n",
       "      <td>...</td>\n",
       "      <td>...</td>\n",
       "      <td>...</td>\n",
       "      <td>...</td>\n",
       "    </tr>\n",
       "    <tr>\n",
       "      <th>AC0295-C</th>\n",
       "      <td>K92</td>\n",
       "      <td>Martin Donnelly</td>\n",
       "      <td>Uganda</td>\n",
       "      <td>Kihihi</td>\n",
       "      <td>2012</td>\n",
       "      <td>11</td>\n",
       "      <td>-0.751</td>\n",
       "      <td>29.701</td>\n",
       "      <td>F</td>\n",
       "      <td>0.026</td>\n",
       "      <td>0.002</td>\n",
       "      <td>gamb_colu</td>\n",
       "      <td>gambiae</td>\n",
       "    </tr>\n",
       "    <tr>\n",
       "      <th>AC0296-C</th>\n",
       "      <td>K93</td>\n",
       "      <td>Martin Donnelly</td>\n",
       "      <td>Uganda</td>\n",
       "      <td>Kihihi</td>\n",
       "      <td>2012</td>\n",
       "      <td>11</td>\n",
       "      <td>-0.751</td>\n",
       "      <td>29.701</td>\n",
       "      <td>F</td>\n",
       "      <td>0.029</td>\n",
       "      <td>0.003</td>\n",
       "      <td>gamb_colu</td>\n",
       "      <td>gambiae</td>\n",
       "    </tr>\n",
       "    <tr>\n",
       "      <th>AC0297-C</th>\n",
       "      <td>K94</td>\n",
       "      <td>Martin Donnelly</td>\n",
       "      <td>Uganda</td>\n",
       "      <td>Kihihi</td>\n",
       "      <td>2012</td>\n",
       "      <td>11</td>\n",
       "      <td>-0.751</td>\n",
       "      <td>29.701</td>\n",
       "      <td>F</td>\n",
       "      <td>0.026</td>\n",
       "      <td>0.002</td>\n",
       "      <td>gamb_colu</td>\n",
       "      <td>gambiae</td>\n",
       "    </tr>\n",
       "    <tr>\n",
       "      <th>AC0298-C</th>\n",
       "      <td>K95</td>\n",
       "      <td>Martin Donnelly</td>\n",
       "      <td>Uganda</td>\n",
       "      <td>Kihihi</td>\n",
       "      <td>2012</td>\n",
       "      <td>11</td>\n",
       "      <td>-0.751</td>\n",
       "      <td>29.701</td>\n",
       "      <td>F</td>\n",
       "      <td>0.029</td>\n",
       "      <td>0.002</td>\n",
       "      <td>gamb_colu</td>\n",
       "      <td>gambiae</td>\n",
       "    </tr>\n",
       "    <tr>\n",
       "      <th>AC0299-C</th>\n",
       "      <td>K96</td>\n",
       "      <td>Martin Donnelly</td>\n",
       "      <td>Uganda</td>\n",
       "      <td>Kihihi</td>\n",
       "      <td>2012</td>\n",
       "      <td>11</td>\n",
       "      <td>-0.751</td>\n",
       "      <td>29.701</td>\n",
       "      <td>F</td>\n",
       "      <td>0.029</td>\n",
       "      <td>0.002</td>\n",
       "      <td>gamb_colu</td>\n",
       "      <td>gambiae</td>\n",
       "    </tr>\n",
       "  </tbody>\n",
       "</table>\n",
       "<p>2784 rows × 13 columns</p>\n",
       "</div>"
      ],
      "text/plain": [
       "          partner_sample_id      contributor country location  year  month  \\\n",
       "sample_id                                                                    \n",
       "AR0047-C             LUA047       Joao Pinto  Angola   Luanda  2009      4   \n",
       "AR0049-C             LUA049       Joao Pinto  Angola   Luanda  2009      4   \n",
       "AR0051-C             LUA051       Joao Pinto  Angola   Luanda  2009      4   \n",
       "AR0061-C             LUA061       Joao Pinto  Angola   Luanda  2009      4   \n",
       "AR0078-C             LUA078       Joao Pinto  Angola   Luanda  2009      4   \n",
       "...                     ...              ...     ...      ...   ...    ...   \n",
       "AC0295-C                K92  Martin Donnelly  Uganda   Kihihi  2012     11   \n",
       "AC0296-C                K93  Martin Donnelly  Uganda   Kihihi  2012     11   \n",
       "AC0297-C                K94  Martin Donnelly  Uganda   Kihihi  2012     11   \n",
       "AC0298-C                K95  Martin Donnelly  Uganda   Kihihi  2012     11   \n",
       "AC0299-C                K96  Martin Donnelly  Uganda   Kihihi  2012     11   \n",
       "\n",
       "           latitude  longitude sex_call  aim_fraction_colu  aim_fraction_arab  \\\n",
       "sample_id                                                                       \n",
       "AR0047-C     -8.884     13.302        F              0.945              0.001   \n",
       "AR0049-C     -8.884     13.302        F              0.933              0.001   \n",
       "AR0051-C     -8.884     13.302        F              0.937              0.002   \n",
       "AR0061-C     -8.884     13.302        F              0.938              0.002   \n",
       "AR0078-C     -8.884     13.302        F              0.926              0.001   \n",
       "...             ...        ...      ...                ...                ...   \n",
       "AC0295-C     -0.751     29.701        F              0.026              0.002   \n",
       "AC0296-C     -0.751     29.701        F              0.029              0.003   \n",
       "AC0297-C     -0.751     29.701        F              0.026              0.002   \n",
       "AC0298-C     -0.751     29.701        F              0.029              0.002   \n",
       "AC0299-C     -0.751     29.701        F              0.029              0.002   \n",
       "\n",
       "          species_gambcolu_arabiensis species_gambiae_coluzzii  \n",
       "sample_id                                                       \n",
       "AR0047-C                    gamb_colu                 coluzzii  \n",
       "AR0049-C                    gamb_colu                 coluzzii  \n",
       "AR0051-C                    gamb_colu                 coluzzii  \n",
       "AR0061-C                    gamb_colu                 coluzzii  \n",
       "AR0078-C                    gamb_colu                 coluzzii  \n",
       "...                               ...                      ...  \n",
       "AC0295-C                    gamb_colu                  gambiae  \n",
       "AC0296-C                    gamb_colu                  gambiae  \n",
       "AC0297-C                    gamb_colu                  gambiae  \n",
       "AC0298-C                    gamb_colu                  gambiae  \n",
       "AC0299-C                    gamb_colu                  gambiae  \n",
       "\n",
       "[2784 rows x 13 columns]"
      ]
     },
     "execution_count": 8,
     "metadata": {},
     "output_type": "execute_result"
    }
   ],
   "source": [
    "all_meta\n"
   ]
  },
  {
   "cell_type": "code",
   "execution_count": 9,
   "metadata": {},
   "outputs": [
    {
     "data": {
      "text/plain": [
       "gamb_colu       2415\n",
       "arabiensis       368\n",
       "intermediate       1\n",
       "Name: species_gambcolu_arabiensis, dtype: int64"
      ]
     },
     "execution_count": 9,
     "metadata": {},
     "output_type": "execute_result"
    }
   ],
   "source": [
    "q = all_meta.species_gambcolu_arabiensis.value_counts()\n",
    "q"
   ]
  },
  {
   "cell_type": "code",
   "execution_count": 10,
   "metadata": {},
   "outputs": [
    {
     "data": {
      "text/plain": [
       "2784"
      ]
     },
     "execution_count": 10,
     "metadata": {},
     "output_type": "execute_result"
    }
   ],
   "source": [
    "len(all_meta)"
   ]
  },
  {
   "cell_type": "code",
   "execution_count": 11,
   "metadata": {},
   "outputs": [],
   "source": [
    "s = all_meta[all_meta.country == \"Uganda\"].species_gambcolu_arabiensis.value_counts()\n",
    "p = all_meta[all_meta.country == \"Uganda\"].species_gambiae_coluzzii.value_counts()"
   ]
  },
  {
   "cell_type": "code",
   "execution_count": 12,
   "metadata": {},
   "outputs": [
    {
     "data": {
      "text/plain": [
       "gamb_colu       207\n",
       "arabiensis       82\n",
       "intermediate      1\n",
       "Name: species_gambcolu_arabiensis, dtype: int64"
      ]
     },
     "execution_count": 12,
     "metadata": {},
     "output_type": "execute_result"
    }
   ],
   "source": [
    "s"
   ]
  },
  {
   "cell_type": "code",
   "execution_count": 13,
   "metadata": {},
   "outputs": [
    {
     "data": {
      "text/plain": [
       "gambiae    207\n",
       "Name: species_gambiae_coluzzii, dtype: int64"
      ]
     },
     "execution_count": 13,
     "metadata": {},
     "output_type": "execute_result"
    }
   ],
   "source": [
    "p"
   ]
  },
  {
   "cell_type": "code",
   "execution_count": 14,
   "metadata": {},
   "outputs": [
    {
     "data": {
      "text/plain": [
       "array(['coluzzii', 'gambiae', 'intermediate', nan], dtype=object)"
      ]
     },
     "execution_count": 14,
     "metadata": {},
     "output_type": "execute_result"
    }
   ],
   "source": [
    "all_meta.species_gambiae_coluzzii.unique()"
   ]
  },
  {
   "cell_type": "code",
   "execution_count": 15,
   "metadata": {},
   "outputs": [
    {
     "data": {
      "text/plain": [
       "['AG1000G-AO',\n",
       " 'AG1000G-BF-A',\n",
       " 'AG1000G-BF-B',\n",
       " 'AG1000G-BF-C',\n",
       " 'AG1000G-CD',\n",
       " 'AG1000G-CF',\n",
       " 'AG1000G-CI',\n",
       " 'AG1000G-CM-A',\n",
       " 'AG1000G-CM-B',\n",
       " 'AG1000G-CM-C',\n",
       " 'AG1000G-FR',\n",
       " 'AG1000G-GA-A',\n",
       " 'AG1000G-GH',\n",
       " 'AG1000G-GM-A',\n",
       " 'AG1000G-GM-B',\n",
       " 'AG1000G-GM-C',\n",
       " 'AG1000G-GN-A',\n",
       " 'AG1000G-GN-B',\n",
       " 'AG1000G-GQ',\n",
       " 'AG1000G-GW',\n",
       " 'AG1000G-KE',\n",
       " 'AG1000G-ML-A',\n",
       " 'AG1000G-ML-B',\n",
       " 'AG1000G-MW',\n",
       " 'AG1000G-MZ',\n",
       " 'AG1000G-TZ',\n",
       " 'AG1000G-UG']"
      ]
     },
     "execution_count": 15,
     "metadata": {},
     "output_type": "execute_result"
    }
   ],
   "source": [
    "samplesets"
   ]
  },
  {
   "cell_type": "code",
   "execution_count": 16,
   "metadata": {},
   "outputs": [
    {
     "data": {
      "text/plain": [
       "['Angola',\n",
       " 'Burkina Faso',\n",
       " 'Democratic Republic of Congo',\n",
       " 'Central African Republic',\n",
       " \"Cote d'Ivoire\",\n",
       " 'Cameroon',\n",
       " 'Mayotte',\n",
       " 'Gabon',\n",
       " 'Ghana',\n",
       " 'Gambia, The',\n",
       " 'Guinea',\n",
       " 'Mali',\n",
       " 'Equatorial Guinea',\n",
       " 'Guinea-Bissau',\n",
       " 'Kenya',\n",
       " 'Malawi',\n",
       " 'Mozambique',\n",
       " 'Tanzania',\n",
       " 'Uganda']"
      ]
     },
     "execution_count": 16,
     "metadata": {},
     "output_type": "execute_result"
    }
   ],
   "source": [
    "countries = list(all_meta.country.unique())\n",
    "countries"
   ]
  },
  {
   "cell_type": "code",
   "execution_count": 36,
   "metadata": {},
   "outputs": [
    {
     "data": {
      "image/png": "[encoded data removed]",
      "text/plain": [
       "<Figure size 288x72 with 1 Axes>"
      ]
     },
     "metadata": {
      "needs_background": "light"
     },
     "output_type": "display_data"
    }
   ],
   "source": [
    "sp_nm = ['$Anopheles$ $gambiae$', '$Anopheles$ $coluzzii$', '$Anopheles$ $arabiensis$', 'intermediate']\n",
    "#palette\n",
    "flat = [\"#3498db\", \"#e74c3c\", \"#e2962d\", \"#95a5a6\"]\n",
    "palette = sns.color_palette(flat, n_colors=len(sp_nm))\n",
    "# add a colour for other_resistant\n",
    "sns.palplot(palette)\n",
    "plt.gca().set_xticklabels(sp_nm);"
   ]
  },
  {
   "cell_type": "code",
   "execution_count": 47,
   "metadata": {},
   "outputs": [
    {
     "name": "stdout",
     "output_type": "stream",
     "text": [
      "Angola 0 0 81 0\n",
      "Burkina Faso 3 157 135 1\n",
      "Democratic Republic of Congo 0 76 0 0\n",
      "Central African Republic 0 55 18 0\n",
      "Cote d'Ivoire 0 0 80 0\n",
      "Cameroon 2 416 26 0\n",
      "Mayotte 0 23 0 0\n",
      "Gabon 0 69 0 0\n",
      "Ghana 0 36 64 0\n",
      "Gambia, The 0 69 169 41\n",
      "Guinea 0 123 11 2\n",
      "Mali 2 131 91 1\n",
      "Equatorial Guinea 0 10 0 0\n",
      "Guinea-Bissau 0 29 0 72\n",
      "Kenya 13 28 0 45\n",
      "Malawi 41 0 0 0\n",
      "Mozambique 0 74 0 0\n",
      "Tanzania 225 68 0 7\n",
      "Uganda 82 207 0 1\n"
     ]
    }
   ],
   "source": [
    "for c in countries:\n",
    "    df = all_meta[all_meta.country == c]\n",
    "    ar = 0\n",
    "    gm = 0\n",
    "    cl = 0\n",
    "    it = 0\n",
    "    #species counts\n",
    "    spai = df.species_gambcolu_arabiensis.value_counts()\n",
    "    if 'arabiensis' in spai:\n",
    "        ar += spai.arabiensis\n",
    "    if 'intermediate' in spai:\n",
    "        it += spai.intermediate\n",
    "        \n",
    "    spgc = df.species_gambiae_coluzzii.value_counts()\n",
    "    if 'gambiae' in spgc:\n",
    "        gm += spgc.gambiae\n",
    "    if 'intermediate' in spgc:\n",
    "        it += spgc.intermediate\n",
    "    if 'coluzzii' in spgc:\n",
    "        cl += spgc.coluzzii\n",
    "    \n",
    "    #check\n",
    "    tot = ar + gm + cl + it\n",
    "    assert(tot == len(df))\n",
    "    print(c, ar, gm, cl, it)"
   ]
  },
  {
   "cell_type": "code",
   "execution_count": 38,
   "metadata": {},
   "outputs": [
    {
     "data": {
      "text/plain": [
       "290"
      ]
     },
     "execution_count": 38,
     "metadata": {},
     "output_type": "execute_result"
    }
   ],
   "source": [
    "tot"
   ]
  },
  {
   "cell_type": "code",
   "execution_count": 31,
   "metadata": {},
   "outputs": [
    {
     "data": {
      "text/plain": [
       "2784"
      ]
     },
     "execution_count": 31,
     "metadata": {},
     "output_type": "execute_result"
    }
   ],
   "source": [
    "len(all_meta)"
   ]
  },
  {
   "cell_type": "code",
   "execution_count": null,
   "metadata": {},
   "outputs": [],
   "source": []
  },
  {
   "cell_type": "code",
   "execution_count": null,
   "metadata": {},
   "outputs": [],
   "source": []
  },
  {
   "cell_type": "code",
   "execution_count": null,
   "metadata": {},
   "outputs": [],
   "source": []
  },
  {
   "cell_type": "code",
   "execution_count": null,
   "metadata": {},
   "outputs": [],
   "source": []
  },
  {
   "cell_type": "code",
   "execution_count": null,
   "metadata": {},
   "outputs": [],
   "source": []
  },
  {
   "cell_type": "code",
   "execution_count": 52,
   "metadata": {},
   "outputs": [],
   "source": [
    "#code to get a single averaged lat/lon and species composition for each country\n",
    "def plot_pyr_map(dpi=150, extent=[-22, 48, -25, 15], figsize=(10, 4), label_fontsize=7):\n",
    "    subplot_kw = dict(projection=ccrs.PlateCarree())\n",
    "    fig, ax = plt.subplots(figsize=figsize, subplot_kw=subplot_kw, dpi=120)\n",
    "    ax.add_feature(cfeature.LAND, linewidth=1, zorder=1)\n",
    "    ax.coastlines(resolution='50m', linewidth=1, zorder=2)\n",
    "    ax.add_feature(cfeature.BORDERS, linewidth=1, zorder=5)\n",
    "    \n",
    "    for c in countries:\n",
    "        df = all_meta[all_meta.country == c]\n",
    "        ar = 0\n",
    "        gm = 0\n",
    "        cl = 0\n",
    "        it = 0\n",
    "        #species counts\n",
    "        spai = df.species_gambcolu_arabiensis.value_counts()\n",
    "        if 'arabiensis' in spai:\n",
    "            ar += spai.arabiensis\n",
    "        if 'intermediate' in spai:\n",
    "            it += spai.intermediate\n",
    "\n",
    "        spgc = df.species_gambiae_coluzzii.value_counts()\n",
    "        if 'gambiae' in spgc:\n",
    "            gm += spgc.gambiae\n",
    "        if 'intermediate' in spgc:\n",
    "            it += spgc.intermediate\n",
    "        if 'coluzzii' in spgc:\n",
    "            cl += spgc.coluzzii\n",
    "\n",
    "        #check\n",
    "        tot = ar + gm + cl + it\n",
    "        assert(tot == len(df))\n",
    "        \n",
    "        #get an average lonlat for each country\n",
    "        lon = np.mean(df.longitude.unique())\n",
    "        lat = np.mean(df.latitude.unique())\n",
    "\n",
    "        centre = (lon, lat)\n",
    "        radius=2\n",
    "        ax.add_patch(plt.Circle(xy=centre, radius=radius, facecolor='none', edgecolor='k', zorder=8, lw=0.4))\n",
    "        ax.pie([gm, cl, ar, it], wedgeprops=dict(zorder=7), colors=palette, center=centre, radius=radius, shadow=True)\n",
    "        \n",
    "    ax.set_extent(extent)         \n"
   ]
  },
  {
   "cell_type": "code",
   "execution_count": 53,
   "metadata": {},
   "outputs": [
    {
     "data": {
      "image/png": "[encoded data removed]",
      "text/plain": [
       "<Figure size 1200x480 with 1 Axes>"
      ]
     },
     "metadata": {},
     "output_type": "display_data"
    }
   ],
   "source": [
    "plot_pyr_map()"
   ]
  },
  {
   "cell_type": "code",
   "execution_count": 17,
   "metadata": {},
   "outputs": [],
   "source": [
    "#sex as well as species?"
   ]
  },
  {
   "cell_type": "code",
   "execution_count": null,
   "metadata": {},
   "outputs": [],
   "source": []
  }
 ],
 "metadata": {
  "kernelspec": {
   "display_name": "Python 3",
   "language": "python",
   "name": "python3"
  },
  "language_info": {
   "codemirror_mode": {
    "name": "ipython",
    "version": 3
   },
   "file_extension": ".py",
   "mimetype": "text/x-python",
   "name": "python",
   "nbconvert_exporter": "python",
   "pygments_lexer": "ipython3",
   "version": "3.7.6"
  }
 },
 "nbformat": 4,
 "nbformat_minor": 4
}
