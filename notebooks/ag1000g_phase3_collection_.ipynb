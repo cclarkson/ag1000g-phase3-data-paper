{
 "cells": [
  {
   "cell_type": "markdown",
   "metadata": {},
   "source": [
    "## Summary of changes\n",
    "\n",
    "- deprecate centroids in favour of observed mean lat/lon\n",
    "- use a dict to concat metadata\n",
    "- show samplesets where > 1 country\n",
    "- tidy up `offset_df` object\n",
    "- use `dict.get()` to tidy up logic around label positions\n",
    "- as above to tidy long names\n",
    "- use of `pd.crosstab` instead of looping through and counting\n",
    "\n",
    "## To do\n",
    "\n",
    "- prefer to find better term than \"intermediate\", as clearly gamb_colu rather than arab. \n",
    "- tidy up offsets based on new locations by mean."
   ]
  },
  {
   "cell_type": "code",
   "execution_count": 1,
   "metadata": {},
   "outputs": [
    {
     "name": "stdout",
     "output_type": "stream",
     "text": [
      "cartopy 0.17.0\n"
     ]
    }
   ],
   "source": [
    "import matplotlib as mpl\n",
    "import matplotlib.pyplot as plt\n",
    "from matplotlib.lines import Line2D\n",
    "from matplotlib.patches import Patch\n",
    "import cartopy; print('cartopy', cartopy.__version__)\n",
    "import cartopy.crs as ccrs\n",
    "import cartopy.feature as cfeature\n",
    "import pandas as pd\n",
    "import numpy as np\n",
    "import seaborn as sns\n",
    "import gcsfs\n",
    "from pathlib import Path\n",
    "import yaml\n",
    "#cartopy text scale issues\n",
    "sns.set_context('paper', font_scale=.9)"
   ]
  },
  {
   "cell_type": "markdown",
   "metadata": {},
   "source": [
    "### setup data access"
   ]
  },
  {
   "cell_type": "code",
   "execution_count": 2,
   "metadata": {},
   "outputs": [],
   "source": [
    "gcsfs.core.client_config['installed']['client_id'] = '160816776314-7h1p2h6bqhe77vs1su4rr22fblso9dre.apps.googleusercontent.com'\n",
    "gcsfs.core.client_config['installed']['client_secret'] = 'SrJUwD58yKgViyJtw-NP2sz8'"
   ]
  },
  {
   "cell_type": "code",
   "execution_count": 3,
   "metadata": {},
   "outputs": [],
   "source": [
    "# create a GCSFileSystem just for the purpose of authentication\n",
    "gcs_orig = gcsfs.GCSFileSystem(project='malariagen-jupyterhub', token='cache', cache_timeout=0)\n",
    "\n",
    "# create another one with those credentials\n",
    "gcs =  gcsfs.GCSFileSystem(project='malariagen-jupyterhub', token=gcs_orig.session.credentials, cache_timeout=0)"
   ]
  },
  {
   "cell_type": "markdown",
   "metadata": {},
   "source": [
    "### setup data"
   ]
  },
  {
   "cell_type": "code",
   "execution_count": 4,
   "metadata": {},
   "outputs": [],
   "source": [
    "staging_dir = Path(\"vo_agam_release\")\n",
    "species_analysis = \"species_calls_20200422\""
   ]
  },
  {
   "cell_type": "code",
   "execution_count": 5,
   "metadata": {},
   "outputs": [],
   "source": [
    "#get pops\n",
    "with open(\"../data/config.yml\", \"r\") as yy:\n",
    "    config = yaml.load(yy, Loader=yaml.Loader)\n",
    "\n",
    "samplesets = sorted(config[\"sample_sets\"])\n",
    "\n",
    "#GA-B is empty, crosses we don't want\n",
    "samplesets.remove('AG1000G-GA-B')\n",
    "samplesets.remove('AG1000G-X')"
   ]
  },
  {
   "cell_type": "code",
   "execution_count": 6,
   "metadata": {},
   "outputs": [],
   "source": [
    "#need to get mean lon/lat across countries so we might as well concat all metadata including species into a big PD\n",
    "set_len = 0\n",
    "all_meta = {}\n",
    "\n",
    "for sset in samplesets:\n",
    "        \n",
    "        metadata_path = staging_dir / \"v3\" / \"metadata\" / \"general\" / sset / \"samples.meta.csv\"\n",
    "        species_path = staging_dir / \"v3\" / \"metadata\" / species_analysis / sset / \"samples.species_aim.csv\"\n",
    "\n",
    "        with gcs.open(metadata_path) as gcs_fh:\n",
    "            df = pd.read_csv(gcs_fh, index_col=0)\n",
    "        with gcs.open(species_path) as gcs_fh:\n",
    "            df_aim = pd.read_csv(gcs_fh, index_col=0)\n",
    "\n",
    "        # join on sample id\n",
    "        result = pd.concat([df, df_aim], axis=1, sort=False)\n",
    "        \n",
    "        set_len += len(result)\n",
    "\n",
    "        all_meta[sset] = result\n",
    "\n",
    "all_meta = pd.concat(all_meta, names=[\"sample_set\", \"sample_id\"]).reset_index(level=0)\n",
    "\n",
    "assert len(all_meta) == set_len"
   ]
  },
  {
   "cell_type": "code",
   "execution_count": 7,
   "metadata": {},
   "outputs": [
    {
     "data": {
      "text/html": [
       "<div>\n",
       "<style scoped>\n",
       "    .dataframe tbody tr th:only-of-type {\n",
       "        vertical-align: middle;\n",
       "    }\n",
       "\n",
       "    .dataframe tbody tr th {\n",
       "        vertical-align: top;\n",
       "    }\n",
       "\n",
       "    .dataframe thead th {\n",
       "        text-align: right;\n",
       "    }\n",
       "</style>\n",
       "<table border=\"1\" class=\"dataframe\">\n",
       "  <thead>\n",
       "    <tr style=\"text-align: right;\">\n",
       "      <th></th>\n",
       "      <th>sample_set</th>\n",
       "      <th>partner_sample_id</th>\n",
       "      <th>contributor</th>\n",
       "      <th>country</th>\n",
       "      <th>location</th>\n",
       "      <th>year</th>\n",
       "      <th>month</th>\n",
       "      <th>latitude</th>\n",
       "      <th>longitude</th>\n",
       "      <th>sex_call</th>\n",
       "      <th>aim_fraction_colu</th>\n",
       "      <th>aim_fraction_arab</th>\n",
       "      <th>species_gambcolu_arabiensis</th>\n",
       "      <th>species_gambiae_coluzzii</th>\n",
       "    </tr>\n",
       "    <tr>\n",
       "      <th>sample_id</th>\n",
       "      <th></th>\n",
       "      <th></th>\n",
       "      <th></th>\n",
       "      <th></th>\n",
       "      <th></th>\n",
       "      <th></th>\n",
       "      <th></th>\n",
       "      <th></th>\n",
       "      <th></th>\n",
       "      <th></th>\n",
       "      <th></th>\n",
       "      <th></th>\n",
       "      <th></th>\n",
       "      <th></th>\n",
       "    </tr>\n",
       "  </thead>\n",
       "  <tbody>\n",
       "    <tr>\n",
       "      <th>AR0047-C</th>\n",
       "      <td>AG1000G-AO</td>\n",
       "      <td>LUA047</td>\n",
       "      <td>Joao Pinto</td>\n",
       "      <td>Angola</td>\n",
       "      <td>Luanda</td>\n",
       "      <td>2009</td>\n",
       "      <td>4</td>\n",
       "      <td>-8.884</td>\n",
       "      <td>13.302</td>\n",
       "      <td>F</td>\n",
       "      <td>0.945</td>\n",
       "      <td>0.001</td>\n",
       "      <td>gamb_colu</td>\n",
       "      <td>coluzzii</td>\n",
       "    </tr>\n",
       "    <tr>\n",
       "      <th>AR0049-C</th>\n",
       "      <td>AG1000G-AO</td>\n",
       "      <td>LUA049</td>\n",
       "      <td>Joao Pinto</td>\n",
       "      <td>Angola</td>\n",
       "      <td>Luanda</td>\n",
       "      <td>2009</td>\n",
       "      <td>4</td>\n",
       "      <td>-8.884</td>\n",
       "      <td>13.302</td>\n",
       "      <td>F</td>\n",
       "      <td>0.933</td>\n",
       "      <td>0.001</td>\n",
       "      <td>gamb_colu</td>\n",
       "      <td>coluzzii</td>\n",
       "    </tr>\n",
       "    <tr>\n",
       "      <th>AR0051-C</th>\n",
       "      <td>AG1000G-AO</td>\n",
       "      <td>LUA051</td>\n",
       "      <td>Joao Pinto</td>\n",
       "      <td>Angola</td>\n",
       "      <td>Luanda</td>\n",
       "      <td>2009</td>\n",
       "      <td>4</td>\n",
       "      <td>-8.884</td>\n",
       "      <td>13.302</td>\n",
       "      <td>F</td>\n",
       "      <td>0.937</td>\n",
       "      <td>0.002</td>\n",
       "      <td>gamb_colu</td>\n",
       "      <td>coluzzii</td>\n",
       "    </tr>\n",
       "    <tr>\n",
       "      <th>AR0061-C</th>\n",
       "      <td>AG1000G-AO</td>\n",
       "      <td>LUA061</td>\n",
       "      <td>Joao Pinto</td>\n",
       "      <td>Angola</td>\n",
       "      <td>Luanda</td>\n",
       "      <td>2009</td>\n",
       "      <td>4</td>\n",
       "      <td>-8.884</td>\n",
       "      <td>13.302</td>\n",
       "      <td>F</td>\n",
       "      <td>0.938</td>\n",
       "      <td>0.002</td>\n",
       "      <td>gamb_colu</td>\n",
       "      <td>coluzzii</td>\n",
       "    </tr>\n",
       "    <tr>\n",
       "      <th>AR0078-C</th>\n",
       "      <td>AG1000G-AO</td>\n",
       "      <td>LUA078</td>\n",
       "      <td>Joao Pinto</td>\n",
       "      <td>Angola</td>\n",
       "      <td>Luanda</td>\n",
       "      <td>2009</td>\n",
       "      <td>4</td>\n",
       "      <td>-8.884</td>\n",
       "      <td>13.302</td>\n",
       "      <td>F</td>\n",
       "      <td>0.926</td>\n",
       "      <td>0.001</td>\n",
       "      <td>gamb_colu</td>\n",
       "      <td>coluzzii</td>\n",
       "    </tr>\n",
       "  </tbody>\n",
       "</table>\n",
       "</div>"
      ],
      "text/plain": [
       "           sample_set partner_sample_id contributor country location  year  \\\n",
       "sample_id                                                                    \n",
       "AR0047-C   AG1000G-AO            LUA047  Joao Pinto  Angola   Luanda  2009   \n",
       "AR0049-C   AG1000G-AO            LUA049  Joao Pinto  Angola   Luanda  2009   \n",
       "AR0051-C   AG1000G-AO            LUA051  Joao Pinto  Angola   Luanda  2009   \n",
       "AR0061-C   AG1000G-AO            LUA061  Joao Pinto  Angola   Luanda  2009   \n",
       "AR0078-C   AG1000G-AO            LUA078  Joao Pinto  Angola   Luanda  2009   \n",
       "\n",
       "           month  latitude  longitude sex_call  aim_fraction_colu  \\\n",
       "sample_id                                                           \n",
       "AR0047-C       4    -8.884     13.302        F              0.945   \n",
       "AR0049-C       4    -8.884     13.302        F              0.933   \n",
       "AR0051-C       4    -8.884     13.302        F              0.937   \n",
       "AR0061-C       4    -8.884     13.302        F              0.938   \n",
       "AR0078-C       4    -8.884     13.302        F              0.926   \n",
       "\n",
       "           aim_fraction_arab species_gambcolu_arabiensis  \\\n",
       "sample_id                                                  \n",
       "AR0047-C               0.001                   gamb_colu   \n",
       "AR0049-C               0.001                   gamb_colu   \n",
       "AR0051-C               0.002                   gamb_colu   \n",
       "AR0061-C               0.002                   gamb_colu   \n",
       "AR0078-C               0.001                   gamb_colu   \n",
       "\n",
       "          species_gambiae_coluzzii  \n",
       "sample_id                           \n",
       "AR0047-C                  coluzzii  \n",
       "AR0049-C                  coluzzii  \n",
       "AR0051-C                  coluzzii  \n",
       "AR0061-C                  coluzzii  \n",
       "AR0078-C                  coluzzii  "
      ]
     },
     "execution_count": 7,
     "metadata": {},
     "output_type": "execute_result"
    }
   ],
   "source": [
    "all_meta.head()"
   ]
  },
  {
   "cell_type": "code",
   "execution_count": 8,
   "metadata": {},
   "outputs": [
    {
     "data": {
      "text/html": [
       "<div>\n",
       "<style scoped>\n",
       "    .dataframe tbody tr th:only-of-type {\n",
       "        vertical-align: middle;\n",
       "    }\n",
       "\n",
       "    .dataframe tbody tr th {\n",
       "        vertical-align: top;\n",
       "    }\n",
       "\n",
       "    .dataframe thead th {\n",
       "        text-align: right;\n",
       "    }\n",
       "</style>\n",
       "<table border=\"1\" class=\"dataframe\">\n",
       "  <thead>\n",
       "    <tr style=\"text-align: right;\">\n",
       "      <th></th>\n",
       "      <th>latitude</th>\n",
       "      <th>longitude</th>\n",
       "    </tr>\n",
       "    <tr>\n",
       "      <th>country</th>\n",
       "      <th></th>\n",
       "      <th></th>\n",
       "    </tr>\n",
       "  </thead>\n",
       "  <tbody>\n",
       "    <tr>\n",
       "      <th>Angola</th>\n",
       "      <td>-8.884000</td>\n",
       "      <td>13.302000</td>\n",
       "    </tr>\n",
       "    <tr>\n",
       "      <th>Burkina Faso</th>\n",
       "      <td>11.248257</td>\n",
       "      <td>-4.281929</td>\n",
       "    </tr>\n",
       "    <tr>\n",
       "      <th>Cameroon</th>\n",
       "      <td>5.640275</td>\n",
       "      <td>13.536223</td>\n",
       "    </tr>\n",
       "    <tr>\n",
       "      <th>Central African Republic</th>\n",
       "      <td>4.367000</td>\n",
       "      <td>18.583000</td>\n",
       "    </tr>\n",
       "    <tr>\n",
       "      <th>Cote d'Ivoire</th>\n",
       "      <td>5.898000</td>\n",
       "      <td>-4.823000</td>\n",
       "    </tr>\n",
       "  </tbody>\n",
       "</table>\n",
       "</div>"
      ],
      "text/plain": [
       "                           latitude  longitude\n",
       "country                                       \n",
       "Angola                    -8.884000  13.302000\n",
       "Burkina Faso              11.248257  -4.281929\n",
       "Cameroon                   5.640275  13.536223\n",
       "Central African Republic   4.367000  18.583000\n",
       "Cote d'Ivoire              5.898000  -4.823000"
      ]
     },
     "execution_count": 8,
     "metadata": {},
     "output_type": "execute_result"
    }
   ],
   "source": [
    "df_centroids = all_meta.groupby(\"country\").agg({\"latitude\": np.mean, \"longitude\": np.mean})\n",
    "df_centroids.head()"
   ]
  },
  {
   "cell_type": "code",
   "execution_count": 9,
   "metadata": {},
   "outputs": [
    {
     "data": {
      "text/plain": [
       "(2784, 14)"
      ]
     },
     "execution_count": 9,
     "metadata": {},
     "output_type": "execute_result"
    }
   ],
   "source": [
    "all_meta.shape"
   ]
  },
  {
   "cell_type": "code",
   "execution_count": 10,
   "metadata": {},
   "outputs": [
    {
     "data": {
      "text/html": [
       "<div>\n",
       "<style scoped>\n",
       "    .dataframe tbody tr th:only-of-type {\n",
       "        vertical-align: middle;\n",
       "    }\n",
       "\n",
       "    .dataframe tbody tr th {\n",
       "        vertical-align: top;\n",
       "    }\n",
       "\n",
       "    .dataframe thead th {\n",
       "        text-align: right;\n",
       "    }\n",
       "</style>\n",
       "<table border=\"1\" class=\"dataframe\">\n",
       "  <thead>\n",
       "    <tr style=\"text-align: right;\">\n",
       "      <th>country</th>\n",
       "      <th>Angola</th>\n",
       "      <th>Burkina Faso</th>\n",
       "      <th>Cameroon</th>\n",
       "      <th>Central African Republic</th>\n",
       "      <th>Cote d'Ivoire</th>\n",
       "      <th>Democratic Republic of Congo</th>\n",
       "      <th>Equatorial Guinea</th>\n",
       "      <th>Gabon</th>\n",
       "      <th>Gambia, The</th>\n",
       "      <th>Ghana</th>\n",
       "      <th>Guinea</th>\n",
       "      <th>Guinea-Bissau</th>\n",
       "      <th>Kenya</th>\n",
       "      <th>Malawi</th>\n",
       "      <th>Mali</th>\n",
       "      <th>Mayotte</th>\n",
       "      <th>Mozambique</th>\n",
       "      <th>Tanzania</th>\n",
       "      <th>Uganda</th>\n",
       "    </tr>\n",
       "    <tr>\n",
       "      <th>sample_set</th>\n",
       "      <th></th>\n",
       "      <th></th>\n",
       "      <th></th>\n",
       "      <th></th>\n",
       "      <th></th>\n",
       "      <th></th>\n",
       "      <th></th>\n",
       "      <th></th>\n",
       "      <th></th>\n",
       "      <th></th>\n",
       "      <th></th>\n",
       "      <th></th>\n",
       "      <th></th>\n",
       "      <th></th>\n",
       "      <th></th>\n",
       "      <th></th>\n",
       "      <th></th>\n",
       "      <th></th>\n",
       "      <th></th>\n",
       "    </tr>\n",
       "  </thead>\n",
       "  <tbody>\n",
       "    <tr>\n",
       "      <th>AG1000G-GN-B</th>\n",
       "      <td>0</td>\n",
       "      <td>0</td>\n",
       "      <td>0</td>\n",
       "      <td>0</td>\n",
       "      <td>0</td>\n",
       "      <td>0</td>\n",
       "      <td>0</td>\n",
       "      <td>0</td>\n",
       "      <td>0</td>\n",
       "      <td>0</td>\n",
       "      <td>91</td>\n",
       "      <td>0</td>\n",
       "      <td>0</td>\n",
       "      <td>0</td>\n",
       "      <td>94</td>\n",
       "      <td>0</td>\n",
       "      <td>0</td>\n",
       "      <td>0</td>\n",
       "      <td>0</td>\n",
       "    </tr>\n",
       "  </tbody>\n",
       "</table>\n",
       "</div>"
      ],
      "text/plain": [
       "country       Angola  Burkina Faso  Cameroon  Central African Republic  \\\n",
       "sample_set                                                               \n",
       "AG1000G-GN-B       0             0         0                         0   \n",
       "\n",
       "country       Cote d'Ivoire  Democratic Republic of Congo  Equatorial Guinea  \\\n",
       "sample_set                                                                     \n",
       "AG1000G-GN-B              0                             0                  0   \n",
       "\n",
       "country       Gabon  Gambia, The  Ghana  Guinea  Guinea-Bissau  Kenya  Malawi  \\\n",
       "sample_set                                                                      \n",
       "AG1000G-GN-B      0            0      0      91              0      0       0   \n",
       "\n",
       "country       Mali  Mayotte  Mozambique  Tanzania  Uganda  \n",
       "sample_set                                                 \n",
       "AG1000G-GN-B    94        0           0         0       0  "
      ]
     },
     "execution_count": 10,
     "metadata": {},
     "output_type": "execute_result"
    }
   ],
   "source": [
    "sampleset_by_country = pd.crosstab(all_meta.sample_set, all_meta.country)\n",
    "\n",
    "# any samplesets that have multiple countries? \n",
    "sampleset_by_country.loc[(sampleset_by_country > 0).sum(axis=1) > 1]"
   ]
  },
  {
   "cell_type": "code",
   "execution_count": 11,
   "metadata": {},
   "outputs": [
    {
     "data": {
      "image/png": "[encoded data removed]",
      "text/plain": [
       "<Figure size 288x72 with 1 Axes>"
      ]
     },
     "metadata": {
      "needs_background": "light"
     },
     "output_type": "display_data"
    }
   ],
   "source": [
    "#countries\n",
    "countries = list(all_meta.country.unique())\n",
    "#long species labels\n",
    "sp_nm = ['$Anopheles$ $gambiae$', '$Anopheles$ $coluzzii$', '$Anopheles$ $arabiensis$', 'intermediate']\n",
    "#palette\n",
    "flat = [\"#3498db\", \"#e74c3c\", \"#e2962d\", \"#95a5a6\"]\n",
    "palette = sns.color_palette(flat, n_colors=len(sp_nm))\n",
    "# add a colour for other_resistant\n",
    "sns.palplot(palette)\n",
    "plt.gca().set_xticklabels(sp_nm);"
   ]
  },
  {
   "cell_type": "code",
   "execution_count": 12,
   "metadata": {},
   "outputs": [],
   "source": [
    "#build df with lat lon offsets and country labels - two letter codes?\n",
    "offset_df = pd.DataFrame(index=countries, columns=[\"offset_lon\", \"offset_lat\"], data=0.0)"
   ]
  },
  {
   "cell_type": "code",
   "execution_count": 13,
   "metadata": {},
   "outputs": [],
   "source": [
    "offset_df.loc['Angola'] = 0, 1\n",
    "offset_df.loc['Burkina Faso'] = 2, 0\n",
    "offset_df.loc['Cameroon'] = -0.3, 1\n",
    "offset_df.loc['Central African Republic'] = 0.3, 1\n",
    "offset_df.loc[\"Cote d'Ivoire\"] = -0.5, 0\n",
    "offset_df.loc['Democratic Republic of Congo'] = 0, 3\n",
    "offset_df.loc['Equatorial Guinea'] = -3, -1.5\n",
    "offset_df.loc['Gambia, The'] = -4, 1\n",
    "offset_df.loc['Ghana'] = 0.4, -1.5\n",
    "offset_df.loc['Guinea-Bissau'] = -2.5, -3\n",
    "offset_df.loc['Kenya'] = 0, 1\n",
    "offset_df.loc['Malawi'] = -1, 0\n",
    "offset_df.loc['Mali'] = 0, -1\n",
    "offset_df.loc['Mayotte'] = -1, 3\n",
    "offset_df.loc['Mozambique'] = 1, -2\n",
    "offset_df.loc['Tanzania'] = 0, 1\n",
    "offset_df.loc['Uganda'] = 0, 1"
   ]
  },
  {
   "cell_type": "code",
   "execution_count": 14,
   "metadata": {},
   "outputs": [],
   "source": [
    "alternate_names = {\n",
    "    \"Equatorial Guinea\": \"Bioko\",\n",
    "    \"Gambia, The\": \"The Gambia\",\n",
    "    \"Central African Republic\": \"Central African Republic\".replace(\" \", \"\\n\"),\n",
    "    \"Democratic Republic of Congo\": \"Democratic\\nRepublic\\nof Congo\"\n",
    "}"
   ]
  },
  {
   "cell_type": "code",
   "execution_count": 15,
   "metadata": {},
   "outputs": [
    {
     "data": {
      "text/plain": [
       "{'Cameroon': 'bottom',\n",
       " 'Central African Republic': 'bottom',\n",
       " 'The Gambia': 'bottom',\n",
       " 'Guinea': 'bottom',\n",
       " 'Mali': 'bottom',\n",
       " 'Mayotte': 'bottom',\n",
       " 'Uganda': 'bottom'}"
      ]
     },
     "execution_count": 15,
     "metadata": {},
     "output_type": "execute_result"
    }
   ],
   "source": [
    "label_locations = {c: \"bottom\" for c in ['Cameroon', 'Central African Republic', 'The Gambia', 'Guinea', 'Mali', 'Mayotte', 'Uganda']}\n",
    "label_locations"
   ]
  },
  {
   "cell_type": "code",
   "execution_count": 16,
   "metadata": {},
   "outputs": [],
   "source": [
    "arab_call = pd.crosstab(all_meta.country, all_meta.species_gambcolu_arabiensis)\n",
    "colu_call = pd.crosstab(all_meta.country, all_meta.species_gambiae_coluzzii)\n",
    "colu_call.rename({\"intermediate\": \"gambaie/coluzzii\"}, axis=1, inplace=True)"
   ]
  },
  {
   "cell_type": "code",
   "execution_count": 17,
   "metadata": {},
   "outputs": [],
   "source": [
    "summary_counts = pd.concat([arab_call, colu_call], axis=1, sort=False).fillna(0).astype(int)\n",
    "summary_counts.drop(\"gamb_colu\", axis=1, inplace=True)"
   ]
  },
  {
   "cell_type": "code",
   "execution_count": 18,
   "metadata": {},
   "outputs": [
    {
     "data": {
      "text/html": [
       "<div>\n",
       "<style scoped>\n",
       "    .dataframe tbody tr th:only-of-type {\n",
       "        vertical-align: middle;\n",
       "    }\n",
       "\n",
       "    .dataframe tbody tr th {\n",
       "        vertical-align: top;\n",
       "    }\n",
       "\n",
       "    .dataframe thead th {\n",
       "        text-align: right;\n",
       "    }\n",
       "</style>\n",
       "<table border=\"1\" class=\"dataframe\">\n",
       "  <thead>\n",
       "    <tr style=\"text-align: right;\">\n",
       "      <th></th>\n",
       "      <th>arabiensis</th>\n",
       "      <th>intermediate</th>\n",
       "      <th>coluzzii</th>\n",
       "      <th>gambiae</th>\n",
       "      <th>gambaie/coluzzii</th>\n",
       "    </tr>\n",
       "  </thead>\n",
       "  <tbody>\n",
       "    <tr>\n",
       "      <th>Angola</th>\n",
       "      <td>0</td>\n",
       "      <td>0</td>\n",
       "      <td>81</td>\n",
       "      <td>0</td>\n",
       "      <td>0</td>\n",
       "    </tr>\n",
       "    <tr>\n",
       "      <th>Burkina Faso</th>\n",
       "      <td>3</td>\n",
       "      <td>0</td>\n",
       "      <td>135</td>\n",
       "      <td>157</td>\n",
       "      <td>1</td>\n",
       "    </tr>\n",
       "    <tr>\n",
       "      <th>Cameroon</th>\n",
       "      <td>2</td>\n",
       "      <td>0</td>\n",
       "      <td>26</td>\n",
       "      <td>416</td>\n",
       "      <td>0</td>\n",
       "    </tr>\n",
       "    <tr>\n",
       "      <th>Central African Republic</th>\n",
       "      <td>0</td>\n",
       "      <td>0</td>\n",
       "      <td>18</td>\n",
       "      <td>55</td>\n",
       "      <td>0</td>\n",
       "    </tr>\n",
       "    <tr>\n",
       "      <th>Cote d'Ivoire</th>\n",
       "      <td>0</td>\n",
       "      <td>0</td>\n",
       "      <td>80</td>\n",
       "      <td>0</td>\n",
       "      <td>0</td>\n",
       "    </tr>\n",
       "  </tbody>\n",
       "</table>\n",
       "</div>"
      ],
      "text/plain": [
       "                          arabiensis  intermediate  coluzzii  gambiae  \\\n",
       "Angola                             0             0        81        0   \n",
       "Burkina Faso                       3             0       135      157   \n",
       "Cameroon                           2             0        26      416   \n",
       "Central African Republic           0             0        18       55   \n",
       "Cote d'Ivoire                      0             0        80        0   \n",
       "\n",
       "                          gambaie/coluzzii  \n",
       "Angola                                   0  \n",
       "Burkina Faso                             1  \n",
       "Cameroon                                 0  \n",
       "Central African Republic                 0  \n",
       "Cote d'Ivoire                            0  "
      ]
     },
     "execution_count": 18,
     "metadata": {},
     "output_type": "execute_result"
    }
   ],
   "source": [
    "summary_counts.head()"
   ]
  },
  {
   "cell_type": "code",
   "execution_count": 19,
   "metadata": {},
   "outputs": [],
   "source": [
    "ar, _, cl, ga, it = summary_counts.loc[\"Mali\"]"
   ]
  },
  {
   "cell_type": "code",
   "execution_count": 20,
   "metadata": {},
   "outputs": [],
   "source": [
    "#code to get a single averaged lat/lon and species composition for each country\n",
    "def plot_pyr_map(dpi=150, extent=[-30, 48, -25, 14], figsize=(10, 4), label_fontsize=7):\n",
    "    \n",
    "    subplot_kw = dict(projection=ccrs.PlateCarree())\n",
    "    fig, ax = plt.subplots(figsize=figsize, subplot_kw=subplot_kw, dpi=120)\n",
    "    ax.add_feature(cfeature.LAND, linewidth=1, zorder=1)\n",
    "    ax.coastlines(resolution='50m', linewidth=0.7, zorder=2)\n",
    "    ax.add_feature(cfeature.BORDERS, linewidth=0.5, zorder=5)\n",
    "    \n",
    "    for c in countries:\n",
    "        \n",
    "        ar, _, cl, gm, it = summary_counts.loc[c]\n",
    "        \n",
    "        #use centroids for countries +- offsets\n",
    "        offset_lon = offset_df.loc[c].offset_lon\n",
    "        offset_lat = offset_df.loc[c].offset_lat\n",
    "        \n",
    "        lon = df_centroids.loc[c].longitude\n",
    "        lat = df_centroids.loc[c].latitude\n",
    "\n",
    "        centre = (lon + offset_lon, lat + offset_lat)\n",
    "        radius = np.sqrt(summary_counts.loc[c].sum() * .02)\n",
    "        ax.add_patch(plt.Circle(xy=centre, radius=radius, facecolor='none', edgecolor='k', zorder=8, lw=1))\n",
    "        ax.pie([gm, cl, ar, it], wedgeprops=dict(zorder=7), colors=palette, center=centre, radius=radius, shadow=True)\n",
    "        \n",
    "        # assume top unless otherwise specified\n",
    "        text_pos = label_locations.get(c, \"top\")\n",
    "        long_label = alternate_names.get(c, c)\n",
    "        \n",
    "        ax.text(\n",
    "            centre[0], \n",
    "            centre[1] + (radius + (0.1 * radius)), \n",
    "            long_label, \n",
    "            ha='center', \n",
    "            va=text_pos, \n",
    "            fontsize=6, \n",
    "            fontweight='bold', \n",
    "            bbox=dict(edgecolor='w', facecolor='w', pad=1, alpha=.8, ), \n",
    "            zorder=6)\n",
    "        \n",
    "        # plot a line if there is an offset\n",
    "        if offset_lat != 0 or offset_lon != 0:\n",
    "            ax.plot([lon, lon + offset_lon],[lat, lat + offset_lat], 'k-', lw=1, zorder=5)\n",
    "            \n",
    "        \n",
    "    #manual colour legend\n",
    "    plt.text(-12.0, -1.3, 'Species', fontsize=8,fontweight='bold')\n",
    "    \n",
    "    plt.plot([-14.5, -17.6],[-4, -4], color=flat[0], lw=8, zorder=20, solid_capstyle='round')\n",
    "    plt.text(-13,-4.7,  sp_nm[0], fontsize=8 )\n",
    "    \n",
    "    plt.plot([-14.5, -17.6],[-7, -7], color=flat[1], lw=8, zorder=20, solid_capstyle='round')\n",
    "    plt.text(-13,-7.7, sp_nm[1], fontsize=8 )\n",
    "    \n",
    "    plt.plot([-14.5, -17.6],[-10, -10], color=flat[2], lw=8, zorder=20, solid_capstyle='round')\n",
    "    plt.text(-13,-10.7, sp_nm[2], fontsize=8 )\n",
    "    \n",
    "    plt.plot([-14.5, -17.6],[-13, -13], color=flat[3], lw=8, zorder=20, solid_capstyle='round')\n",
    "    plt.text(-13,-13.7, sp_nm[3], fontsize=8 )\n",
    "    \n",
    "    \n",
    "    #cover tiny islands\n",
    "    plt.plot([-17, -15],[-6.5, -6.5], 'w', lw=20, zorder=10)\n",
    "    plt.plot([-6.5, -6],[-15, -15], 'w', lw=20, zorder=3)      \n",
    "\n",
    "    #X0,X1,Y0,Y1  extent format  \n",
    "    ax.set_extent(extent)         \n",
    "    fig.savefig('../artwork/collection_map.pdf', dpi=dpi, bbox_inches='tight');\n",
    "    return ax"
   ]
  },
  {
   "cell_type": "code",
   "execution_count": 21,
   "metadata": {},
   "outputs": [
    {
     "data": {
      "image/png": "[encoded data removed]",
      "text/plain": [
       "<Figure size 1200x480 with 1 Axes>"
      ]
     },
     "metadata": {},
     "output_type": "display_data"
    }
   ],
   "source": [
    "a = plot_pyr_map()"
   ]
  }
 ],
 "metadata": {
  "kernelspec": {
   "display_name": "Python 3",
   "language": "python",
   "name": "python3"
  },
  "language_info": {
   "codemirror_mode": {
    "name": "ipython",
    "version": 3
   },
   "file_extension": ".py",
   "mimetype": "text/x-python",
   "name": "python",
   "nbconvert_exporter": "python",
   "pygments_lexer": "ipython3",
   "version": "3.7.6"
  }
 },
 "nbformat": 4,
 "nbformat_minor": 4
}
